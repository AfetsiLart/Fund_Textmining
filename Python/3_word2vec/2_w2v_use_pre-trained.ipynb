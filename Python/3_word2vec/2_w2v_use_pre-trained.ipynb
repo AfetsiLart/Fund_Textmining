{
 "cells": [
  {
   "cell_type": "markdown",
   "metadata": {},
   "source": [
    "### Use a pre-trained IMF w2v model"
   ]
  },
  {
   "cell_type": "code",
   "execution_count": 2,
   "metadata": {},
   "outputs": [],
   "source": [
    "import os \n",
    "python_root = '..'\n",
    "import sys\n",
    "sys.path.insert(0, python_root)\n",
    "import data_util\n",
    "import gensim\n",
    "from gensim.models.word2vec import Word2Vec"
   ]
  },
  {
   "cell_type": "code",
   "execution_count": 3,
   "metadata": {},
   "outputs": [],
   "source": [
    "### specify download path and extract path \n",
    "download_path = \"imf_w2v.zip\"\n",
    "download_link = \"https://www.dropbox.com/sh/6um97x52kweebfx/AACSxB0E9weItCbyQwUqvuWRa?dl=1\"\n",
    "extract_path = \"./data\"  # place data in Python project root folder"
   ]
  },
  {
   "cell_type": "code",
   "execution_count": 4,
   "metadata": {},
   "outputs": [
    {
     "name": "stderr",
     "output_type": "stream",
     "text": [
      "article iv: 377MB [00:54, 7.06MB/s] \n"
     ]
    }
   ],
   "source": [
    "## detailed of the download_data function is in data_util module in python_root ## deta \n",
    "## if you do not yet have the data, run this code, it will set up a data folder under ./Python folder \n",
    "data_util.download_data(download_path,download_link,extract_path)"
   ]
  },
  {
   "cell_type": "code",
   "execution_count": 5,
   "metadata": {},
   "outputs": [],
   "source": [
    "## load models ## load \n",
    "data_path = os.path.join('data','imf_160.w2v')\n",
    "imf_w2v = Word2Vec.load(data_path)\n",
    "model = imf_w2v.wv\n",
    "vocabs = model.vocab.keys()"
   ]
  },
  {
   "cell_type": "code",
   "execution_count": 7,
   "metadata": {},
   "outputs": [
    {
     "data": {
      "text/plain": [
       "[('spillover_effects', 0.8493928909301758),\n",
       " ('spillover', 0.7857826352119446),\n",
       " ('contagion', 0.6592278480529785),\n",
       " ('linkages', 0.6073517203330994),\n",
       " ('externalities', 0.5710237622261047),\n",
       " ('spill-over_effects', 0.5442690849304199),\n",
       " ('interlinkages', 0.5310503840446472),\n",
       " ('fallout', 0.5168225169181824),\n",
       " ('feedback_loops', 0.5142378211021423),\n",
       " ('shocks', 0.5135106444358826)]"
      ]
     },
     "execution_count": 7,
     "metadata": {},
     "output_type": "execute_result"
    }
   ],
   "source": [
    "model.most_similar('spillovers',topn=10)"
   ]
  },
  {
   "cell_type": "code",
   "execution_count": 8,
   "metadata": {},
   "outputs": [
    {
     "data": {
      "text/plain": [
       "[('npls', 0.8002818822860718),\n",
       " ('nonperforming_loans', 0.7035836577415466),\n",
       " ('nonperforming_loan', 0.6560260057449341),\n",
       " ('non-performing_loans', 0.6476631164550781),\n",
       " ('bad_loans', 0.6335045695304871),\n",
       " ('nonperforming_assets', 0.6121625900268555),\n",
       " ('non-performing_assets', 0.56827312707901),\n",
       " ('nonperforming', 0.5497351288795471),\n",
       " ('npl_ratio', 0.5402685403823853),\n",
       " ('npl_ratios', 0.5334952473640442)]"
      ]
     },
     "execution_count": 8,
     "metadata": {},
     "output_type": "execute_result"
    }
   ],
   "source": [
    "model.most_similar('npl',topn=10)"
   ]
  },
  {
   "cell_type": "code",
   "execution_count": 20,
   "metadata": {},
   "outputs": [
    {
     "data": {
      "text/plain": [
       "0.16320450466608752"
      ]
     },
     "execution_count": 20,
     "metadata": {},
     "output_type": "execute_result"
    }
   ],
   "source": [
    "#3 this shoudl be relatively low\n",
    "model.similarity('npls', 'spillovers')"
   ]
  },
  {
   "cell_type": "code",
   "execution_count": 21,
   "metadata": {},
   "outputs": [
    {
     "data": {
      "text/plain": [
       "0.8933590872816737"
      ]
     },
     "execution_count": 21,
     "metadata": {},
     "output_type": "execute_result"
    }
   ],
   "source": [
    "## this should be very high\n",
    "model.similarity('npls', 'nonperforming_loans')"
   ]
  },
  {
   "cell_type": "code",
   "execution_count": 15,
   "metadata": {
    "scrolled": false
   },
   "outputs": [
    {
     "data": {
      "text/plain": [
       "array([-0.20460077, -0.34498632,  0.42962274,  0.258541  ,  0.5504377 ,\n",
       "       -0.0536263 ,  0.07589159,  0.09083318, -0.0944185 ,  0.20553784,\n",
       "       -0.00692495, -0.43700868, -0.01498264,  0.45857543, -0.20065284,\n",
       "        0.1793543 , -0.18240327, -0.21032022,  0.15982702, -0.11619198,\n",
       "       -0.08492611, -0.43330345, -0.06456972,  0.21706173, -0.02405606,\n",
       "       -0.16904908, -0.13675784, -0.14593326, -0.00316487, -0.25858992,\n",
       "        0.12219826,  0.0506461 , -0.3580545 , -0.20476851,  0.16754219,\n",
       "       -0.41290167,  0.02580005,  0.3761338 ,  0.36083806, -0.24956213,\n",
       "       -0.15226303, -0.3164954 , -0.05635492, -0.4764704 ,  0.18347721,\n",
       "       -0.35314292,  0.02121358,  0.23125312, -0.00183692, -0.03619984,\n",
       "        0.15857007,  0.03361896, -0.12972586,  0.32385156, -0.27848843,\n",
       "       -0.05484215, -0.10135303,  0.45545328, -0.49000666,  0.38192284,\n",
       "        0.0707485 ,  0.04021734,  0.3511658 ,  0.12188273, -0.00904156,\n",
       "       -0.02653648, -0.3857196 , -0.04144435,  0.25922886,  0.17001912,\n",
       "       -0.0466418 ,  0.03960968,  0.14629148,  0.02296077, -0.18182416,\n",
       "       -0.04474584,  0.17367165, -0.14276925, -0.19196326, -0.05989401,\n",
       "        0.15224408, -0.14322704,  0.27398837, -0.14490762, -0.05863671,\n",
       "       -0.17971714,  0.27013674, -0.72023696, -0.3835969 ,  0.24350023,\n",
       "       -0.14886928, -0.03395755,  0.03600306,  0.24270721, -0.06262006,\n",
       "       -0.07758104, -0.08012155, -0.03321657, -0.00392232,  0.02817679,\n",
       "       -0.17602098, -0.3031565 , -0.36011434,  0.20863275,  0.31571224,\n",
       "        0.08117582, -0.05877931, -0.00809912,  0.14795399,  0.28397185,\n",
       "       -0.37374914, -0.07436366,  0.24109818, -0.19428577, -0.04726434,\n",
       "        0.17321064, -0.3403011 , -0.39998442,  0.18356907, -0.4240432 ,\n",
       "        0.0883598 , -0.03757042, -0.10472307,  0.02368334, -0.01053695,\n",
       "        0.12224685, -0.24608198, -0.02573824,  0.0160587 ,  0.08657286,\n",
       "       -0.27666852,  0.01885847, -0.06965962,  0.06278632, -0.03670521,\n",
       "       -0.03715583, -0.17226508, -0.20185095, -0.2519501 , -0.03749983,\n",
       "       -0.4051398 ,  0.1887199 , -0.13575386,  0.01432804, -0.25745362,\n",
       "        0.13232094, -0.07026844, -0.43435752,  0.00952223,  0.06630419,\n",
       "       -0.09991702, -0.39503923,  0.4699811 , -0.10280388, -0.4791633 ,\n",
       "       -0.05333133,  0.2405209 , -0.07719132, -0.22808231,  0.08643235,\n",
       "       -0.07537059, -0.23056082, -0.33074784,  0.04288051, -0.30465925,\n",
       "        0.16945732,  0.38061816,  0.17475225,  0.5256647 ,  0.13001023,\n",
       "       -0.0452676 ,  0.04123723, -0.35842127, -0.00625453, -0.10046303,\n",
       "       -0.34383336,  0.46637723, -0.09141135, -0.04248887,  0.30250773,\n",
       "       -0.30832827,  0.25632274, -0.45853594,  0.02760107, -0.01100597,\n",
       "       -0.10045002,  0.0679198 , -0.04117483, -0.33295465,  0.2329065 ,\n",
       "        0.2159653 ,  0.08791744, -0.16150884,  0.42268857,  0.03736531,\n",
       "        0.18042794,  0.14203483, -0.11444528, -0.18347462,  0.03203289,\n",
       "        0.20764983, -0.06181723, -0.05273132,  0.04047267, -0.03326549,\n",
       "        0.03100713,  0.1070852 , -0.01980082, -0.20632704,  0.13151366,\n",
       "       -0.36654854, -0.2628301 ,  0.20427224,  0.3059693 ,  0.07938088,\n",
       "        0.18163383,  0.22817266,  0.0433382 ,  0.11219689,  0.17330663,\n",
       "        0.43679586, -0.08061669, -0.174033  ,  0.24715301,  0.00098632,\n",
       "        0.04307587,  0.00801724,  0.3321339 , -0.19215658, -0.08525646,\n",
       "       -0.50153285,  0.9612966 ,  0.02440902, -0.17144334,  0.39270657,\n",
       "        0.30190307, -0.11639293, -0.09033985, -0.19485126,  0.15075542,\n",
       "        0.1013521 ,  0.4155568 , -0.09018733, -0.16032422, -0.2700887 ,\n",
       "       -0.3076437 ,  0.10282389, -0.27357018,  0.03047123,  0.48889124,\n",
       "        0.3317762 , -0.31149054,  0.13589485,  0.5626452 ,  0.28646672,\n",
       "        0.08015922, -0.11670088,  0.03790154,  0.35223004, -0.2713942 ,\n",
       "       -0.2560082 ,  0.15454178, -0.16989237,  0.08516836, -0.28135395,\n",
       "       -0.3571701 , -0.13714345, -0.39865774,  0.25660136,  0.02906016,\n",
       "       -0.43177316, -0.2383161 ,  0.37306577, -0.17259748, -0.09527163,\n",
       "       -0.42776015, -0.13684611,  0.06760954, -0.34084183,  0.02533686,\n",
       "       -0.0408499 ,  0.39558297, -0.52725136, -0.12396838, -0.06999352,\n",
       "       -0.03045775,  0.2941968 ,  0.01134378, -0.35942295,  0.12074494,\n",
       "       -0.27165407,  0.09023379,  0.1534122 ,  0.23238438,  0.27098703,\n",
       "       -0.31725562, -0.13507974, -0.43004698,  0.09191138, -0.41438445],\n",
       "      dtype=float32)"
      ]
     },
     "execution_count": 15,
     "metadata": {},
     "output_type": "execute_result"
    }
   ],
   "source": [
    "model.get_vector('npl')"
   ]
  },
  {
   "cell_type": "code",
   "execution_count": null,
   "metadata": {},
   "outputs": [],
   "source": []
  },
  {
   "cell_type": "code",
   "execution_count": null,
   "metadata": {},
   "outputs": [],
   "source": []
  }
 ],
 "metadata": {
  "kernelspec": {
   "display_name": "Python 3",
   "language": "python",
   "name": "python3"
  },
  "language_info": {
   "codemirror_mode": {
    "name": "ipython",
    "version": 3
   },
   "file_extension": ".py",
   "mimetype": "text/x-python",
   "name": "python",
   "nbconvert_exporter": "python",
   "pygments_lexer": "ipython3",
   "version": "3.6.4"
  }
 },
 "nbformat": 4,
 "nbformat_minor": 2
}
